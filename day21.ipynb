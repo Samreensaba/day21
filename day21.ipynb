{
 "cells": [
  {
   "cell_type": "code",
   "execution_count": 1,
   "id": "7e9ac2dd-80ab-4972-a6a5-79b8030926d2",
   "metadata": {},
   "outputs": [
    {
     "name": "stdout",
     "output_type": "stream",
     "text": [
      "ARE YOU READY FOR A MATH GAME?\n",
      "\n"
     ]
    },
    {
     "name": "stdin",
     "output_type": "stream",
     "text": [
      "Name your multiplies:  5\n"
     ]
    },
    {
     "name": "stdout",
     "output_type": "stream",
     "text": [
      "\n",
      "1 X 5\n"
     ]
    },
    {
     "name": "stdin",
     "output_type": "stream",
     "text": [
      ">  10\n"
     ]
    },
    {
     "name": "stdout",
     "output_type": "stream",
     "text": [
      "Sorry, that's not correct. Correct answer is  5\n",
      "You scored  0 out of 10.\n",
      "2 X 5\n"
     ]
    },
    {
     "name": "stdin",
     "output_type": "stream",
     "text": [
      ">  10\n"
     ]
    },
    {
     "name": "stdout",
     "output_type": "stream",
     "text": [
      "Amazing, you got it right!\n",
      "You scored  1 out of 10.\n",
      "3 X 5\n"
     ]
    },
    {
     "name": "stdin",
     "output_type": "stream",
     "text": [
      ">  15\n"
     ]
    },
    {
     "name": "stdout",
     "output_type": "stream",
     "text": [
      "Amazing, you got it right!\n",
      "You scored  2 out of 10.\n",
      "4 X 5\n"
     ]
    },
    {
     "name": "stdin",
     "output_type": "stream",
     "text": [
      ">  20\n"
     ]
    },
    {
     "name": "stdout",
     "output_type": "stream",
     "text": [
      "Amazing, you got it right!\n",
      "You scored  3 out of 10.\n",
      "5 X 5\n"
     ]
    },
    {
     "name": "stdin",
     "output_type": "stream",
     "text": [
      ">  25\n"
     ]
    },
    {
     "name": "stdout",
     "output_type": "stream",
     "text": [
      "Amazing, you got it right!\n",
      "You scored  4 out of 10.\n",
      "6 X 5\n"
     ]
    },
    {
     "name": "stdin",
     "output_type": "stream",
     "text": [
      ">  30\n"
     ]
    },
    {
     "name": "stdout",
     "output_type": "stream",
     "text": [
      "Amazing, you got it right!\n",
      "You scored  5 out of 10.\n",
      "7 X 5\n"
     ]
    },
    {
     "name": "stdin",
     "output_type": "stream",
     "text": [
      ">  35\n"
     ]
    },
    {
     "name": "stdout",
     "output_type": "stream",
     "text": [
      "Amazing, you got it right!\n",
      "You scored  6 out of 10.\n",
      "8 X 5\n"
     ]
    },
    {
     "name": "stdin",
     "output_type": "stream",
     "text": [
      ">  40\n"
     ]
    },
    {
     "name": "stdout",
     "output_type": "stream",
     "text": [
      "Amazing, you got it right!\n",
      "You scored  7 out of 10.\n",
      "9 X 5\n"
     ]
    },
    {
     "name": "stdin",
     "output_type": "stream",
     "text": [
      ">  45\n"
     ]
    },
    {
     "name": "stdout",
     "output_type": "stream",
     "text": [
      "Amazing, you got it right!\n",
      "You scored  8 out of 10.\n",
      "10 X 5\n"
     ]
    },
    {
     "name": "stdin",
     "output_type": "stream",
     "text": [
      ">  50\n"
     ]
    },
    {
     "name": "stdout",
     "output_type": "stream",
     "text": [
      "Amazing, you got it right!\n",
      "You scored  9 out of 10.\n"
     ]
    }
   ],
   "source": [
    "print(\"ARE YOU READY FOR A MATH GAME?\")\n",
    "print()\n",
    "multiplies = int(input(\"Name your multiplies: \"))\n",
    "print()\n",
    "counter = 0\n",
    "for i in range(1, 11):\n",
    "  correct_answer = i * multiplies\n",
    "  print( i, \"X\" , multiplies)\n",
    "  answer = int(input(\"> \"))\n",
    "  if answer == correct_answer:\n",
    "    print(\"Amazing, you got it right!\")\n",
    "    counter += 1\n",
    "  else:\n",
    "    print(\"Sorry, that's not correct. Correct answer is \", correct_answer)\n",
    "  if counter == 10:\n",
    "    print(\"You are a math genius! 🌟\")\n",
    "  else:\n",
    "    print(\"You scored \", counter, \"out of 10.\")"
   ]
  },
  {
   "cell_type": "code",
   "execution_count": null,
   "id": "6ba7055b-efbd-4675-936b-19d317b31802",
   "metadata": {},
   "outputs": [],
   "source": []
  }
 ],
 "metadata": {
  "kernelspec": {
   "display_name": "Python 3 (ipykernel)",
   "language": "python",
   "name": "python3"
  },
  "language_info": {
   "codemirror_mode": {
    "name": "ipython",
    "version": 3
   },
   "file_extension": ".py",
   "mimetype": "text/x-python",
   "name": "python",
   "nbconvert_exporter": "python",
   "pygments_lexer": "ipython3",
   "version": "3.12.4"
  }
 },
 "nbformat": 4,
 "nbformat_minor": 5
}
